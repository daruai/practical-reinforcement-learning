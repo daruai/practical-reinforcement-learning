{
 "cells": [
  {
   "cell_type": "markdown",
   "metadata": {},
   "source": [
    "### Deep Kung-Fu with advantage actor-critic\n",
    "\n",
    "In this notebook you'll build a deep reinforcement learning agent for atari [KungFuMaster](https://gym.openai.com/envs/KungFuMaster-v0/) and train it with advantage actor-critic.\n",
    "\n",
    "![http://www.retroland.com/wp-content/uploads/2011/07/King-Fu-Master.jpg](http://www.retroland.com/wp-content/uploads/2011/07/King-Fu-Master.jpg)"
   ]
  },
  {
   "cell_type": "code",
   "execution_count": 1,
   "metadata": {},
   "outputs": [
    {
     "name": "stdout",
     "output_type": "stream",
     "text": [
      "Starting virtual X frame buffer: Xvfb.\r\n"
     ]
    }
   ],
   "source": [
    "from __future__ import print_function, division\n",
    "from IPython.core import display\n",
    "import matplotlib.pyplot as plt\n",
    "%matplotlib inline\n",
    "import numpy as np\n",
    "\n",
    "#If you are running on a server, launch xvfb to record game videos\n",
    "#Please make sure you have xvfb installed\n",
    "import os\n",
    "if type(os.environ.get(\"DISPLAY\")) is not str or len(os.environ.get(\"DISPLAY\")) == 0:\n",
    "    !bash ../xvfb start\n",
    "    os.environ['DISPLAY'] = ':1'"
   ]
  },
  {
   "cell_type": "markdown",
   "metadata": {},
   "source": [
    "For starters, let's take a look at the game itself:\n",
    "* Image resized to 42x42 and grayscale to run faster\n",
    "* Rewards divided by 100 'cuz they are all divisible by 100\n",
    "* Agent sees last 4 frames of game to account for object velocity"
   ]
  },
  {
   "cell_type": "code",
   "execution_count": 6,
   "metadata": {},
   "outputs": [
    {
     "name": "stdout",
     "output_type": "stream",
     "text": [
      "Observation shape: (42, 42, 4)\n",
      "Num actions: 14\n",
      "Action names: ['NOOP', 'UP', 'RIGHT', 'LEFT', 'DOWN', 'DOWNRIGHT', 'DOWNLEFT', 'RIGHTFIRE', 'LEFTFIRE', 'DOWNFIRE', 'UPRIGHTFIRE', 'UPLEFTFIRE', 'DOWNRIGHTFIRE', 'DOWNLEFTFIRE']\n"
     ]
    }
   ],
   "source": [
    "import gym\n",
    "from atari_util import PreprocessAtari\n",
    "\n",
    "# We scale rewards to avoid exploding gradients during optimization.\n",
    "reward_scale = 0.01\n",
    "\n",
    "def make_env():\n",
    "    env = gym.make(\"KungFuMasterDeterministic-v0\")\n",
    "    env = PreprocessAtari(\n",
    "        env, height=42, width=42,\n",
    "        crop=lambda img: img[60:-30, 5:],\n",
    "        dim_order='tensorflow',\n",
    "        color=False, n_frames=4,\n",
    "        reward_scale=reward_scale)\n",
    "    return env\n",
    "\n",
    "env = make_env()\n",
    "\n",
    "obs_shape = env.observation_space.shape\n",
    "n_actions = env.action_space.n\n",
    "\n",
    "print(\"Observation shape:\", obs_shape)\n",
    "print(\"Num actions:\", n_actions)\n",
    "print(\"Action names:\", env.env.env.get_action_meanings())"
   ]
  },
  {
   "cell_type": "code",
   "execution_count": 7,
   "metadata": {},
   "outputs": [
    {
     "data": {
      "image/png": "[encoded data removed]",
      "text/plain": [
       "<Figure size 432x288 with 1 Axes>"
      ]
     },
     "metadata": {
      "needs_background": "light"
     },
     "output_type": "display_data"
    },
    {
     "data": {
      "image/png": "[encoded data removed]",
      "text/plain": [
       "<Figure size 432x288 with 1 Axes>"
      ]
     },
     "metadata": {
      "needs_background": "light"
     },
     "output_type": "display_data"
    }
   ],
   "source": [
    "s = env.reset()\n",
    "for _ in range(100):\n",
    "    s, _, _, _ = env.step(env.action_space.sample())\n",
    "\n",
    "plt.title('Game image')\n",
    "plt.imshow(env.render('rgb_array'))\n",
    "plt.show()\n",
    "\n",
    "plt.title('Agent observation (4-frame buffer)')\n",
    "plt.imshow(s.transpose([0,2,1]).reshape([42,-1]))\n",
    "plt.show()"
   ]
  },
  {
   "cell_type": "markdown",
   "metadata": {},
   "source": [
    "### Build an agent\n",
    "\n",
    "We now have to build an agent for actor-critic training - a convolutional neural network that converts states into action probabilities $\\pi$ and state values $V$.\n",
    "\n",
    "Your assignment here is to build and apply a neural network - with any framework you want. \n",
    "\n",
    "For starters, we want you to implement this architecture:\n",
    "![https://s17.postimg.cc/orswlfzcv/nnet_arch.png](https://s17.postimg.cc/orswlfzcv/nnet_arch.png)\n",
    "\n",
    "After your agent gets mean reward above 50, we encourage you to experiment with model architecture to score even better."
   ]
  },
  {
   "cell_type": "code",
   "execution_count": 8,
   "metadata": {},
   "outputs": [
    {
     "name": "stderr",
     "output_type": "stream",
     "text": [
      "/usr/local/lib/python3.5/dist-packages/tensorflow/python/framework/dtypes.py:516: FutureWarning: Passing (type, 1) or '1type' as a synonym of type is deprecated; in a future version of numpy, it will be understood as (type, (1,)) / '(1,)type'.\n",
      "  _np_qint8 = np.dtype([(\"qint8\", np.int8, 1)])\n",
      "/usr/local/lib/python3.5/dist-packages/tensorflow/python/framework/dtypes.py:517: FutureWarning: Passing (type, 1) or '1type' as a synonym of type is deprecated; in a future version of numpy, it will be understood as (type, (1,)) / '(1,)type'.\n",
      "  _np_quint8 = np.dtype([(\"quint8\", np.uint8, 1)])\n",
      "/usr/local/lib/python3.5/dist-packages/tensorflow/python/framework/dtypes.py:518: FutureWarning: Passing (type, 1) or '1type' as a synonym of type is deprecated; in a future version of numpy, it will be understood as (type, (1,)) / '(1,)type'.\n",
      "  _np_qint16 = np.dtype([(\"qint16\", np.int16, 1)])\n",
      "/usr/local/lib/python3.5/dist-packages/tensorflow/python/framework/dtypes.py:519: FutureWarning: Passing (type, 1) or '1type' as a synonym of type is deprecated; in a future version of numpy, it will be understood as (type, (1,)) / '(1,)type'.\n",
      "  _np_quint16 = np.dtype([(\"quint16\", np.uint16, 1)])\n",
      "/usr/local/lib/python3.5/dist-packages/tensorflow/python/framework/dtypes.py:520: FutureWarning: Passing (type, 1) or '1type' as a synonym of type is deprecated; in a future version of numpy, it will be understood as (type, (1,)) / '(1,)type'.\n",
      "  _np_qint32 = np.dtype([(\"qint32\", np.int32, 1)])\n",
      "/usr/local/lib/python3.5/dist-packages/tensorflow/python/framework/dtypes.py:525: FutureWarning: Passing (type, 1) or '1type' as a synonym of type is deprecated; in a future version of numpy, it will be understood as (type, (1,)) / '(1,)type'.\n",
      "  np_resource = np.dtype([(\"resource\", np.ubyte, 1)])\n",
      "/usr/local/lib/python3.5/dist-packages/tensorboard/compat/tensorflow_stub/dtypes.py:541: FutureWarning: Passing (type, 1) or '1type' as a synonym of type is deprecated; in a future version of numpy, it will be understood as (type, (1,)) / '(1,)type'.\n",
      "  _np_qint8 = np.dtype([(\"qint8\", np.int8, 1)])\n",
      "/usr/local/lib/python3.5/dist-packages/tensorboard/compat/tensorflow_stub/dtypes.py:542: FutureWarning: Passing (type, 1) or '1type' as a synonym of type is deprecated; in a future version of numpy, it will be understood as (type, (1,)) / '(1,)type'.\n",
      "  _np_quint8 = np.dtype([(\"quint8\", np.uint8, 1)])\n",
      "/usr/local/lib/python3.5/dist-packages/tensorboard/compat/tensorflow_stub/dtypes.py:543: FutureWarning: Passing (type, 1) or '1type' as a synonym of type is deprecated; in a future version of numpy, it will be understood as (type, (1,)) / '(1,)type'.\n",
      "  _np_qint16 = np.dtype([(\"qint16\", np.int16, 1)])\n",
      "/usr/local/lib/python3.5/dist-packages/tensorboard/compat/tensorflow_stub/dtypes.py:544: FutureWarning: Passing (type, 1) or '1type' as a synonym of type is deprecated; in a future version of numpy, it will be understood as (type, (1,)) / '(1,)type'.\n",
      "  _np_quint16 = np.dtype([(\"quint16\", np.uint16, 1)])\n",
      "/usr/local/lib/python3.5/dist-packages/tensorboard/compat/tensorflow_stub/dtypes.py:545: FutureWarning: Passing (type, 1) or '1type' as a synonym of type is deprecated; in a future version of numpy, it will be understood as (type, (1,)) / '(1,)type'.\n",
      "  _np_qint32 = np.dtype([(\"qint32\", np.int32, 1)])\n",
      "/usr/local/lib/python3.5/dist-packages/tensorboard/compat/tensorflow_stub/dtypes.py:550: FutureWarning: Passing (type, 1) or '1type' as a synonym of type is deprecated; in a future version of numpy, it will be understood as (type, (1,)) / '(1,)type'.\n",
      "  np_resource = np.dtype([(\"resource\", np.ubyte, 1)])\n"
     ]
    }
   ],
   "source": [
    "import tensorflow as tf\n",
    "tf.reset_default_graph()\n",
    "sess = tf.InteractiveSession()"
   ]
  },
  {
   "cell_type": "code",
   "execution_count": 9,
   "metadata": {},
   "outputs": [],
   "source": [
    "from tensorflow.keras.layers import Conv2D, Dense, Flatten, Input\n",
    "\n",
    "class Agent:\n",
    "    def __init__(self, name, state_shape, n_actions, reuse=False):\n",
    "        \"\"\"A simple actor-critic agent\"\"\"\n",
    "        \n",
    "        with tf.variable_scope(name, reuse=reuse):\n",
    "            \n",
    "            # Prepare neural network architecture\n",
    "            ### Your code here: prepare any necessary layers, variables, etc.\n",
    "            # Input\n",
    "            inputs = Input(shape=state_shape)\n",
    "\n",
    "            # ConvLayers\n",
    "            x = Conv2D(32, (3,3), strides=2, activation='relu')(inputs)\n",
    "            x = Conv2D(32, (3,3), strides=2, activation='relu')(x)\n",
    "            x = Conv2D(32, (3,3), strides=2, activation='relu')(x)\n",
    "            \n",
    "            # Flatten\n",
    "            x = Flatten()(x)\n",
    "            \n",
    "            # Dense layer\n",
    "            x = Dense(128, activation='relu')(x)\n",
    "            \n",
    "            # Logits\n",
    "            logits = Dense(n_actions, activation='linear')(x)\n",
    "            \n",
    "            # State Value\n",
    "            state_v = Dense(1, activation='linear')(x)\n",
    "            \n",
    "            # Stabish the network\n",
    "            self.network = tf.keras.models.Model(inputs=inputs, outputs=[logits, state_v])\n",
    "            \n",
    "            # prepare a graph for agent step\n",
    "            self.state_t = tf.placeholder('float32', [None,] + list(state_shape))\n",
    "            self.agent_outputs = self.symbolic_step(self.state_t)\n",
    "        \n",
    "    def symbolic_step(self, state_t):\n",
    "        \"\"\"Takes agent's previous step and observation, returns next state and whatever it needs to learn (tf tensors)\"\"\"\n",
    "        \n",
    "        # Apply neural network\n",
    "        ### Your code here: apply agent's neural network to get policy logits and state values.\n",
    "        \n",
    "        net_output = self.network(state_t)\n",
    "        #print(net_output)\n",
    "        logits = net_output[0] # We return first the logits\n",
    "        #print(logits)\n",
    "        state_value = net_output[1][0] # To match shape requirements\n",
    "        #print(state_value)\n",
    "        assert tf.is_numeric_tensor(state_value) and state_value.shape.ndims == 1, \\\n",
    "            \"please return 1D tf tensor of state values [you got %s]\" % repr(state_value)\n",
    "        assert tf.is_numeric_tensor(logits) and logits.shape.ndims == 2, \\\n",
    "            \"please return 2d tf tensor of logits [you got %s]\" % repr(logits)\n",
    "        # hint: if you triggered state_values assert with your shape being [None, 1], \n",
    "        # just select [:, 0]-th element of state values as new state values\n",
    "        \n",
    "        return (logits, state_value)\n",
    "    \n",
    "    def step(self, state_t):\n",
    "        \"\"\"Same as symbolic step except it operates on numpy arrays\"\"\"\n",
    "        sess = tf.get_default_session()\n",
    "        return sess.run(self.agent_outputs, {self.state_t: state_t})\n",
    "    \n",
    "    def sample_actions(self, agent_outputs):\n",
    "        \"\"\"pick actions given numeric agent outputs (np arrays)\"\"\"\n",
    "        logits, state_values = agent_outputs\n",
    "        policy = np.exp(logits) / np.sum(np.exp(logits), axis=-1, keepdims=True)\n",
    "        return np.array([np.random.choice(len(p), p=p) for p in policy])"
   ]
  },
  {
   "cell_type": "code",
   "execution_count": 10,
   "metadata": {},
   "outputs": [
    {
     "name": "stdout",
     "output_type": "stream",
     "text": [
      "WARNING:tensorflow:From /usr/local/lib/python3.5/dist-packages/tensorflow/python/ops/init_ops.py:1251: calling VarianceScaling.__init__ (from tensorflow.python.ops.init_ops) with dtype is deprecated and will be removed in a future version.\n",
      "Instructions for updating:\n",
      "Call initializer instance with the dtype argument instead of passing it to the constructor\n"
     ]
    }
   ],
   "source": [
    "agent = Agent(\"agent\", obs_shape, n_actions)\n",
    "sess.run(tf.global_variables_initializer())"
   ]
  },
  {
   "cell_type": "code",
   "execution_count": 11,
   "metadata": {},
   "outputs": [
    {
     "name": "stdout",
     "output_type": "stream",
     "text": [
      "action logits:\n",
      " [[ 1.07692267e-06  2.09208752e-04  5.09949532e-05 -7.84532822e-05\n",
      "  -3.52797178e-05 -1.09231434e-04 -3.84678206e-05  1.60447598e-04\n",
      "  -2.22175498e-04  4.22644662e-05 -8.07026154e-05  6.26557594e-05\n",
      "  -7.17873845e-05 -4.24368220e-04]]\n",
      "state values:\n",
      " [5.9578437e-05]\n"
     ]
    }
   ],
   "source": [
    "state = [env.reset()]\n",
    "logits, value = agent.step(state)\n",
    "print(\"action logits:\\n\", logits)\n",
    "print(\"state values:\\n\", value)"
   ]
  },
  {
   "cell_type": "markdown",
   "metadata": {},
   "source": [
    "### Let's play!\n",
    "Let's build a function that measures agent's average reward."
   ]
  },
  {
   "cell_type": "code",
   "execution_count": 12,
   "metadata": {},
   "outputs": [],
   "source": [
    "def evaluate(agent, env, n_games=1):\n",
    "    \"\"\"Plays an a game from start till done, returns per-game rewards \"\"\"\n",
    "\n",
    "    game_rewards = []\n",
    "    for _ in range(n_games):\n",
    "        state = env.reset()\n",
    "\n",
    "        total_reward = 0\n",
    "        while True:\n",
    "            action = agent.sample_actions(agent.step([state]))[0]\n",
    "            state, reward, done, info = env.step(action)\n",
    "            total_reward += reward\n",
    "            if done: break\n",
    "\n",
    "        # We rescale the reward back to ensure compatibility\n",
    "        # with other evaluations.\n",
    "        game_rewards.append(total_reward / reward_scale)\n",
    "    return game_rewards"
   ]
  },
  {
   "cell_type": "code",
   "execution_count": 13,
   "metadata": {},
   "outputs": [
    {
     "name": "stdout",
     "output_type": "stream",
     "text": [
      "[300.0, 600.0, 600.0]\n"
     ]
    }
   ],
   "source": [
    "env_monitor = gym.wrappers.Monitor(env, directory=\"kungfu_videos\", force=True)\n",
    "rw = evaluate(agent, env_monitor, n_games=3,)\n",
    "env_monitor.close()\n",
    "print (rw)"
   ]
  },
  {
   "cell_type": "code",
   "execution_count": 14,
   "metadata": {},
   "outputs": [
    {
     "data": {
      "text/html": [
       "\n",
       "<video width=\"640\" height=\"480\" controls>\n",
       "  <source src=\"./kungfu_videos/openaigym.video.0.1666.video000001.mp4\" type=\"video/mp4\">\n",
       "</video>\n"
      ],
      "text/plain": [
       "<IPython.core.display.HTML object>"
      ]
     },
     "execution_count": 14,
     "metadata": {},
     "output_type": "execute_result"
    }
   ],
   "source": [
    "#show video\n",
    "import os\n",
    "\n",
    "from IPython.display import HTML\n",
    "\n",
    "video_names = [s for s in os.listdir(\"./kungfu_videos/\") if s.endswith(\".mp4\")]\n",
    "\n",
    "HTML(\"\"\"\n",
    "<video width=\"640\" height=\"480\" controls>\n",
    "  <source src=\"{}\" type=\"video/mp4\">\n",
    "</video>\n",
    "\"\"\".format(\"./kungfu_videos/\" + video_names[-1]))  #this may or may not be _last_ video. Try other indices"
   ]
  },
  {
   "cell_type": "markdown",
   "metadata": {},
   "source": [
    "### Training on parallel games\n",
    "![img](https://s7.postimg.cc/4y36s2b2z/env_pool.png)\n",
    "\n",
    "To make actor-critic training more stable, we shall play several games in parallel. This means ya'll have to initialize several parallel gym envs, send agent's actions there and .reset() each env if it becomes terminated. To minimize learner brain damage, we've taken care of them for ya - just make sure you read it before you use it.\n"
   ]
  },
  {
   "cell_type": "code",
   "execution_count": 15,
   "metadata": {},
   "outputs": [],
   "source": [
    "class EnvBatch:\n",
    "    def __init__(self, n_envs = 10):\n",
    "        \"\"\" Creates n_envs environments and babysits them for ya' \"\"\"\n",
    "        self.envs = [make_env() for _ in range(n_envs)]\n",
    "        \n",
    "    def reset(self):\n",
    "        \"\"\" Reset all games and return [n_envs, *obs_shape] observations \"\"\"\n",
    "        return np.array([env.reset() for env in self.envs])\n",
    "    \n",
    "    def step(self, actions):\n",
    "        \"\"\"\n",
    "        Send a vector[batch_size] of actions into respective environments\n",
    "        :returns: observations[n_envs, *obs_shape], rewards[n_envs], done[n_envs,], info[n_envs]\n",
    "        \"\"\"\n",
    "        results = [env.step(a) for env, a in zip(self.envs, actions)]\n",
    "        new_obs, rewards, done, infos = map(np.array, zip(*results))\n",
    "        \n",
    "        # reset environments automatically\n",
    "        for i in range(len(self.envs)):\n",
    "            if done[i]:\n",
    "                new_obs[i] = self.envs[i].reset()\n",
    "        \n",
    "        return new_obs, rewards, done, infos"
   ]
  },
  {
   "cell_type": "markdown",
   "metadata": {},
   "source": [
    "__Let's try it out:__"
   ]
  },
  {
   "cell_type": "code",
   "execution_count": 16,
   "metadata": {},
   "outputs": [
    {
     "name": "stdout",
     "output_type": "stream",
     "text": [
      "State shape: (10, 42, 42, 4)\n",
      "Actions: [9 8 9]\n",
      "Rewards: [0. 0. 0.]\n",
      "Done: [False False False]\n"
     ]
    }
   ],
   "source": [
    "env_batch = EnvBatch(10)\n",
    "\n",
    "batch_states = env_batch.reset()\n",
    "\n",
    "batch_actions = agent.sample_actions(agent.step(batch_states))\n",
    "\n",
    "batch_next_states, batch_rewards, batch_done, _ = env_batch.step(batch_actions)\n",
    "\n",
    "print(\"State shape:\", batch_states.shape)\n",
    "print(\"Actions:\", batch_actions[:3])\n",
    "print(\"Rewards:\", batch_rewards[:3])\n",
    "print(\"Done:\", batch_done[:3])"
   ]
  },
  {
   "cell_type": "markdown",
   "metadata": {},
   "source": [
    "# Actor-critic\n",
    "\n",
    "Here we define a loss functions and learning algorithms as usual."
   ]
  },
  {
   "cell_type": "code",
   "execution_count": 17,
   "metadata": {},
   "outputs": [],
   "source": [
    "# These placeholders mean exactly the same as in \"Let's try it out\" section above\n",
    "states_ph = tf.placeholder('float32', [None,] + list(obs_shape))    \n",
    "next_states_ph = tf.placeholder('float32', [None,] + list(obs_shape))\n",
    "actions_ph = tf.placeholder('int32', (None,))\n",
    "rewards_ph = tf.placeholder('float32', (None,))\n",
    "is_done_ph = tf.placeholder('float32', (None,))"
   ]
  },
  {
   "cell_type": "code",
   "execution_count": 18,
   "metadata": {},
   "outputs": [],
   "source": [
    "# logits[n_envs, n_actions] and state_values[n_envs, n_actions]\n",
    "logits, state_values = agent.symbolic_step(states_ph)\n",
    "next_logits, next_state_values = agent.symbolic_step(next_states_ph)\n",
    "next_state_values = next_state_values * (1 - is_done_ph)\n",
    "\n",
    "# probabilities and log-probabilities for all actions\n",
    "probs = tf.nn.softmax(logits)            # [n_envs, n_actions]\n",
    "logprobs = tf.nn.log_softmax(logits)     # [n_envs, n_actions]\n",
    "\n",
    "# log-probabilities only for agent's chosen actions\n",
    "logp_actions = tf.reduce_sum(logprobs * tf.one_hot(actions_ph, n_actions), axis=-1) # [n_envs,]"
   ]
  },
  {
   "cell_type": "code",
   "execution_count": 20,
   "metadata": {},
   "outputs": [
    {
     "name": "stdout",
     "output_type": "stream",
     "text": [
      "WARNING:tensorflow:From /usr/local/lib/python3.5/dist-packages/tensorflow/python/ops/math_grad.py:1205: add_dispatch_support.<locals>.wrapper (from tensorflow.python.ops.array_ops) is deprecated and will be removed in a future version.\n",
      "Instructions for updating:\n",
      "Use tf.where in 2.0, which has the same broadcast rule as np.where\n"
     ]
    }
   ],
   "source": [
    "\n",
    "\n",
    "# compute advantage using rewards_ph, state_values and next_state_values\n",
    "gamma = 0.99\n",
    "advantage = rewards_ph + gamma * next_state_values - state_values\n",
    "\n",
    "assert advantage.shape.ndims == 1, \"please compute advantage for each sample, vector of shape [n_envs,]\"\n",
    "\n",
    "# compute policy entropy given logits_seq. Mind the \"-\" sign!\n",
    "entropy = -tf.reduce_sum(probs*logprobs,1)\n",
    "\n",
    "assert entropy.shape.ndims == 1, \"please compute pointwise entropy vector of shape [n_envs,] \"\n",
    "\n",
    "\n",
    "\n",
    "actor_loss =  - tf.reduce_mean(logp_actions * tf.stop_gradient(advantage)) - 0.001 * tf.reduce_mean(entropy)\n",
    "\n",
    "# compute target state values using temporal difference formula. Use rewards_ph and next_step_values\n",
    "target_state_values = rewards_ph + gamma * next_state_values\n",
    "\n",
    "critic_loss = tf.reduce_mean((state_values - tf.stop_gradient(target_state_values))**2 )\n",
    "\n",
    "train_step = tf.train.AdamOptimizer(1e-4).minimize(actor_loss + critic_loss)\n",
    "sess.run(tf.global_variables_initializer())"
   ]
  },
  {
   "cell_type": "code",
   "execution_count": 21,
   "metadata": {},
   "outputs": [
    {
     "name": "stdout",
     "output_type": "stream",
     "text": [
      "You just might be fine!\n"
     ]
    }
   ],
   "source": [
    "# Sanity checks to catch some errors. Specific to KungFuMaster in assignment's default setup.\n",
    "l_act, l_crit, adv, ent = sess.run([actor_loss, critic_loss, advantage, entropy], feed_dict = {\n",
    "        states_ph: batch_states,\n",
    "        actions_ph: batch_actions,\n",
    "        next_states_ph: batch_states,\n",
    "        rewards_ph: batch_rewards,\n",
    "        is_done_ph: batch_done,\n",
    "    })\n",
    "\n",
    "assert abs(l_act) < 100 and abs(l_crit) < 100, \"losses seem abnormally large\"\n",
    "assert 0 <= ent.mean() <= np.log(n_actions), \"impossible entropy value, double-check the formula pls\"\n",
    "if ent.mean() < np.log(n_actions) / 2: print(\"Entropy is too low for untrained agent\")\n",
    "print(\"You just might be fine!\")"
   ]
  },
  {
   "cell_type": "markdown",
   "metadata": {},
   "source": [
    "# Train \n",
    "\n",
    "Just the usual - play a bit, compute loss, follow the graidents, repeat a few million times.\n",
    "![img](http://images6.fanpop.com/image/photos/38900000/Daniel-san-training-the-karate-kid-38947361-499-288.gif)"
   ]
  },
  {
   "cell_type": "code",
   "execution_count": 22,
   "metadata": {},
   "outputs": [],
   "source": [
    "from IPython.display import clear_output\n",
    "from tqdm import trange\n",
    "from pandas import DataFrame\n",
    "ewma = lambda x, span=100: DataFrame({'x':np.asarray(x)}).x.ewm(span=span).mean().values\n",
    "\n",
    "env_batch = EnvBatch(10)\n",
    "batch_states = env_batch.reset()\n",
    "\n",
    "rewards_history = []\n",
    "entropy_history = []"
   ]
  },
  {
   "cell_type": "code",
   "execution_count": 25,
   "metadata": {
    "scrolled": true
   },
   "outputs": [
    {
     "data": {
      "image/png": "[encoded data removed]",
      "text/plain": [
       "<Figure size 576x288 with 2 Axes>"
      ]
     },
     "metadata": {
      "needs_background": "light"
     },
     "output_type": "display_data"
    },
    {
     "name": "stderr",
     "output_type": "stream",
     "text": [
      "\n",
      "\n",
      "100%|█████████▉| 99501/100000 [1:46:23<02:00,  4.14it/s]\u001b[A\u001b[A\n",
      "\n",
      "100%|█████████▉| 99503/100000 [1:46:23<01:34,  5.25it/s]\u001b[A\u001b[A\n",
      "\n",
      "100%|█████████▉| 99505/100000 [1:46:23<01:17,  6.38it/s]\u001b[A\u001b[A\n",
      "\n",
      "100%|█████████▉| 99507/100000 [1:46:23<01:05,  7.54it/s]\u001b[A\u001b[A\n",
      "\n",
      "100%|█████████▉| 99509/100000 [1:46:23<00:57,  8.52it/s]\u001b[A\u001b[A\n",
      "\n",
      "100%|█████████▉| 99511/100000 [1:46:24<00:51,  9.44it/s]\u001b[A\u001b[A\n",
      "\n",
      "100%|█████████▉| 99513/100000 [1:46:24<00:47, 10.29it/s]\u001b[A\u001b[A\n",
      "\n",
      "100%|█████████▉| 99515/100000 [1:46:24<00:44, 10.96it/s]\u001b[A\u001b[A\n",
      "\n",
      "100%|█████████▉| 99517/100000 [1:46:24<00:42, 11.34it/s]\u001b[A\u001b[A\n",
      "\n",
      "100%|█████████▉| 99519/100000 [1:46:24<00:40, 11.83it/s]\u001b[A\u001b[A\n",
      "\n",
      "100%|█████████▉| 99521/100000 [1:46:24<00:39, 12.15it/s]\u001b[A\u001b[A\n",
      "\n",
      "100%|█████████▉| 99523/100000 [1:46:25<00:38, 12.45it/s]\u001b[A\u001b[A\n",
      "\n",
      "100%|█████████▉| 99525/100000 [1:46:25<00:38, 12.32it/s]\u001b[A\u001b[A\n",
      "\n",
      "100%|█████████▉| 99527/100000 [1:46:25<00:38, 12.45it/s]\u001b[A\u001b[A\n",
      "\n",
      "100%|█████████▉| 99529/100000 [1:46:25<00:37, 12.50it/s]\u001b[A\u001b[A\n",
      "\n",
      "100%|█████████▉| 99531/100000 [1:46:25<00:37, 12.66it/s]\u001b[A\u001b[A\n",
      "\n",
      "100%|█████████▉| 99533/100000 [1:46:25<00:36, 12.82it/s]\u001b[A\u001b[A\n",
      "\n",
      "100%|█████████▉| 99535/100000 [1:46:25<00:35, 12.93it/s]\u001b[A\u001b[A\n",
      "\n",
      "100%|█████████▉| 99537/100000 [1:46:26<00:36, 12.79it/s]\u001b[A\u001b[A\n",
      "\n",
      "100%|█████████▉| 99539/100000 [1:46:26<00:35, 12.83it/s]\u001b[A\u001b[A\n",
      "\n",
      "100%|█████████▉| 99542/100000 [1:46:26<00:31, 14.69it/s]\u001b[A\u001b[A\n",
      "\n",
      "100%|█████████▉| 99545/100000 [1:46:26<00:27, 16.35it/s]\u001b[A\u001b[A\n",
      "\n",
      "100%|█████████▉| 99548/100000 [1:46:26<00:25, 17.79it/s]\u001b[A\u001b[A\n",
      "\n",
      "100%|█████████▉| 99551/100000 [1:46:26<00:23, 18.85it/s]\u001b[A\u001b[A\n",
      "\n",
      "100%|█████████▉| 99554/100000 [1:46:26<00:22, 19.77it/s]\u001b[A\u001b[A\n",
      "\n",
      "100%|█████████▉| 99557/100000 [1:46:27<00:21, 20.41it/s]\u001b[A\u001b[A\n",
      "\n",
      "100%|█████████▉| 99560/100000 [1:46:27<00:20, 21.02it/s]\u001b[A\u001b[A\n",
      "\n",
      "100%|█████████▉| 99563/100000 [1:46:27<00:20, 21.37it/s]\u001b[A\u001b[A\n",
      "\n",
      "100%|█████████▉| 99566/100000 [1:46:27<00:20, 21.49it/s]\u001b[A\u001b[A\n",
      "\n",
      "100%|█████████▉| 99569/100000 [1:46:27<00:19, 21.68it/s]\u001b[A\u001b[A\n",
      "\n",
      "100%|█████████▉| 99572/100000 [1:46:27<00:19, 21.77it/s]\u001b[A\u001b[A\n",
      "\n",
      "100%|█████████▉| 99575/100000 [1:46:27<00:19, 21.87it/s]\u001b[A\u001b[A\n",
      "\n",
      "100%|█████████▉| 99578/100000 [1:46:28<00:19, 21.78it/s]\u001b[A\u001b[A\n",
      "\n",
      "100%|█████████▉| 99581/100000 [1:46:28<00:19, 21.77it/s]\u001b[A\u001b[A\n",
      "\n",
      "100%|█████████▉| 99584/100000 [1:46:28<00:19, 21.85it/s]\u001b[A\u001b[A\n",
      "\n",
      "100%|█████████▉| 99587/100000 [1:46:28<00:18, 22.00it/s]\u001b[A\u001b[A\n",
      "\n",
      "100%|█████████▉| 99590/100000 [1:46:28<00:18, 22.10it/s]\u001b[A\u001b[A\n",
      "\n",
      "100%|█████████▉| 99593/100000 [1:46:28<00:18, 21.95it/s]\u001b[A\u001b[A\n",
      "\n",
      "100%|█████████▉| 99596/100000 [1:46:28<00:18, 21.76it/s]\u001b[A\u001b[A\n",
      "\n",
      "100%|█████████▉| 99599/100000 [1:46:28<00:18, 21.77it/s]\u001b[A\u001b[A\n",
      "\n",
      "100%|█████████▉| 99602/100000 [1:46:29<00:18, 21.79it/s]\u001b[A\u001b[A\n",
      "\n",
      "100%|█████████▉| 99605/100000 [1:46:29<00:18, 21.79it/s]\u001b[A\u001b[A\n",
      "\n",
      "100%|█████████▉| 99608/100000 [1:46:29<00:17, 21.78it/s]\u001b[A\u001b[A\n",
      "\n",
      "100%|█████████▉| 99611/100000 [1:46:29<00:17, 21.97it/s]\u001b[A\u001b[A\n",
      "\n",
      "100%|█████████▉| 99614/100000 [1:46:29<00:17, 22.10it/s]\u001b[A\u001b[A\n",
      "\n",
      "100%|█████████▉| 99617/100000 [1:46:29<00:17, 22.18it/s]\u001b[A\u001b[A\n",
      "\n",
      "100%|█████████▉| 99620/100000 [1:46:29<00:17, 22.01it/s]\u001b[A\u001b[A\n",
      "\n",
      "100%|█████████▉| 99623/100000 [1:46:30<00:17, 22.02it/s]\u001b[A\u001b[A\n",
      "\n",
      "100%|█████████▉| 99626/100000 [1:46:30<00:16, 22.08it/s]\u001b[A\u001b[A\n",
      "\n",
      "100%|█████████▉| 99629/100000 [1:46:30<00:16, 22.20it/s]\u001b[A\u001b[A\n",
      "\n",
      "100%|█████████▉| 99632/100000 [1:46:30<00:16, 22.33it/s]\u001b[A\u001b[A\n",
      "\n",
      "100%|█████████▉| 99635/100000 [1:46:30<00:16, 22.38it/s]\u001b[A\u001b[A\n",
      "\n",
      "100%|█████████▉| 99638/100000 [1:46:30<00:16, 22.40it/s]\u001b[A\u001b[A\n",
      "\n",
      "100%|█████████▉| 99641/100000 [1:46:30<00:16, 22.29it/s]\u001b[A\u001b[A\n",
      "\n",
      "100%|█████████▉| 99644/100000 [1:46:31<00:16, 22.21it/s]\u001b[A\u001b[A\n",
      "\n",
      "100%|█████████▉| 99647/100000 [1:46:31<00:15, 22.22it/s]\u001b[A\u001b[A\n",
      "\n",
      "100%|█████████▉| 99650/100000 [1:46:31<00:15, 22.27it/s]\u001b[A\u001b[A\n",
      "\n",
      "100%|█████████▉| 99653/100000 [1:46:31<00:15, 22.10it/s]\u001b[A\u001b[A\n",
      "\n",
      "100%|█████████▉| 99656/100000 [1:46:31<00:15, 22.14it/s]\u001b[A\u001b[A\n",
      "\n",
      "100%|█████████▉| 99659/100000 [1:46:31<00:15, 22.06it/s]\u001b[A\u001b[A\n",
      "\n",
      "100%|█████████▉| 99662/100000 [1:46:31<00:15, 22.02it/s]\u001b[A\u001b[A\n",
      "\n",
      "100%|█████████▉| 99665/100000 [1:46:31<00:15, 22.08it/s]\u001b[A\u001b[A\n",
      "\n",
      "100%|█████████▉| 99668/100000 [1:46:32<00:14, 22.17it/s]\u001b[A\u001b[A\n",
      "\n",
      "100%|█████████▉| 99671/100000 [1:46:32<00:14, 22.35it/s]\u001b[A\u001b[A\n",
      "\n",
      "100%|█████████▉| 99674/100000 [1:46:32<00:14, 22.41it/s]\u001b[A\u001b[A\n",
      "\n",
      "100%|█████████▉| 99677/100000 [1:46:32<00:14, 22.33it/s]\u001b[A\u001b[A\n",
      "\n",
      "100%|█████████▉| 99680/100000 [1:46:32<00:14, 22.42it/s]\u001b[A\u001b[A\n",
      "\n",
      "100%|█████████▉| 99683/100000 [1:46:32<00:14, 22.39it/s]\u001b[A\u001b[A\n",
      "\n",
      "100%|█████████▉| 99686/100000 [1:46:32<00:14, 21.66it/s]\u001b[A\u001b[A\n",
      "\n",
      "100%|█████████▉| 99689/100000 [1:46:33<00:14, 21.85it/s]\u001b[A\u001b[A\n",
      "\n",
      "100%|█████████▉| 99692/100000 [1:46:33<00:14, 21.88it/s]\u001b[A\u001b[A\n",
      "\n",
      "100%|█████████▉| 99695/100000 [1:46:33<00:13, 21.95it/s]\u001b[A\u001b[A\n",
      "\n",
      "100%|█████████▉| 99698/100000 [1:46:33<00:13, 22.01it/s]\u001b[A\u001b[A\n",
      "\n",
      "100%|█████████▉| 99701/100000 [1:46:33<00:13, 22.05it/s]\u001b[A\u001b[A\n",
      "\n",
      "100%|█████████▉| 99704/100000 [1:46:33<00:13, 22.19it/s]\u001b[A\u001b[A\n",
      "\n",
      "100%|█████████▉| 99707/100000 [1:46:33<00:13, 22.24it/s]\u001b[A\u001b[A\n",
      "\n",
      "100%|█████████▉| 99710/100000 [1:46:34<00:13, 22.29it/s]\u001b[A\u001b[A\n",
      "\n",
      "100%|█████████▉| 99713/100000 [1:46:34<00:12, 22.33it/s]\u001b[A\u001b[A\n",
      "\n",
      "100%|█████████▉| 99716/100000 [1:46:34<00:12, 22.32it/s]\u001b[A\u001b[A\n",
      "\n",
      "100%|█████████▉| 99719/100000 [1:46:34<00:12, 22.27it/s]\u001b[A\u001b[A\n",
      "\n",
      "100%|█████████▉| 99722/100000 [1:46:34<00:12, 22.13it/s]\u001b[A\u001b[A\n",
      "\n",
      "100%|█████████▉| 99725/100000 [1:46:34<00:12, 22.17it/s]\u001b[A\u001b[A\n",
      "\n",
      "100%|█████████▉| 99728/100000 [1:46:34<00:12, 22.14it/s]\u001b[A\u001b[A\n",
      "\n",
      "100%|█████████▉| 99731/100000 [1:46:34<00:12, 22.09it/s]\u001b[A\u001b[A\n",
      "\n",
      "100%|█████████▉| 99734/100000 [1:46:35<00:12, 21.94it/s]\u001b[A\u001b[A\n",
      "\n",
      "100%|█████████▉| 99737/100000 [1:46:35<00:12, 21.84it/s]\u001b[A\u001b[A\n",
      "\n",
      "100%|█████████▉| 99740/100000 [1:46:35<00:11, 21.84it/s]\u001b[A\u001b[A\n",
      "\n",
      "100%|█████████▉| 99743/100000 [1:46:35<00:11, 21.82it/s]\u001b[A\u001b[A\n",
      "\n",
      "100%|█████████▉| 99746/100000 [1:46:35<00:11, 22.02it/s]\u001b[A\u001b[A\n",
      "\n",
      "100%|█████████▉| 99749/100000 [1:46:35<00:11, 22.03it/s]\u001b[A\u001b[A\n",
      "\n",
      "100%|█████████▉| 99752/100000 [1:46:35<00:11, 21.89it/s]\u001b[A\u001b[A\n",
      "\n",
      "100%|█████████▉| 99755/100000 [1:46:36<00:11, 21.83it/s]\u001b[A\u001b[A\n",
      "\n",
      "100%|█████████▉| 99758/100000 [1:46:36<00:10, 22.01it/s]\u001b[A\u001b[A\n",
      "\n",
      "100%|█████████▉| 99761/100000 [1:46:36<00:10, 21.95it/s]\u001b[A\u001b[A\n",
      "\n",
      "100%|█████████▉| 99764/100000 [1:46:36<00:10, 22.03it/s]\u001b[A\u001b[A\n",
      "\n",
      "100%|█████████▉| 99767/100000 [1:46:36<00:10, 22.22it/s]\u001b[A\u001b[A\n",
      "\n",
      "100%|█████████▉| 99770/100000 [1:46:36<00:10, 22.31it/s]\u001b[A\u001b[A\n",
      "\n",
      "100%|█████████▉| 99773/100000 [1:46:36<00:10, 22.24it/s]\u001b[A\u001b[A\n",
      "\n",
      "100%|█████████▉| 99776/100000 [1:46:36<00:10, 22.17it/s]\u001b[A\u001b[A\n",
      "\n",
      "100%|█████████▉| 99779/100000 [1:46:37<00:10, 20.94it/s]\u001b[A\u001b[A\n",
      "\n",
      "100%|█████████▉| 99782/100000 [1:46:37<00:10, 21.37it/s]\u001b[A\u001b[A\n",
      "\n",
      "100%|█████████▉| 99785/100000 [1:46:37<00:09, 21.62it/s]\u001b[A\u001b[A\n",
      "\n",
      "100%|█████████▉| 99788/100000 [1:46:37<00:09, 21.89it/s]\u001b[A\u001b[A\n",
      "\n",
      "100%|█████████▉| 99791/100000 [1:46:37<00:09, 21.98it/s]\u001b[A\u001b[A\n",
      "\n",
      "100%|█████████▉| 99794/100000 [1:46:37<00:09, 21.84it/s]\u001b[A\u001b[A\n",
      "\n",
      "100%|█████████▉| 99797/100000 [1:46:37<00:09, 21.94it/s]\u001b[A\u001b[A\n",
      "\n",
      "100%|█████████▉| 99800/100000 [1:46:38<00:09, 21.95it/s]\u001b[A\u001b[A\n",
      "\n",
      "100%|█████████▉| 99803/100000 [1:46:38<00:08, 22.11it/s]\u001b[A\u001b[A\n",
      "\n",
      "100%|█████████▉| 99806/100000 [1:46:38<00:08, 22.13it/s]\u001b[A\u001b[A\n",
      "\n",
      "100%|█████████▉| 99809/100000 [1:46:38<00:08, 22.04it/s]\u001b[A\u001b[A\n",
      "\n",
      "100%|█████████▉| 99812/100000 [1:46:38<00:08, 21.97it/s]\u001b[A\u001b[A\n",
      "\n",
      "100%|█████████▉| 99815/100000 [1:46:38<00:08, 22.02it/s]\u001b[A\u001b[A\n",
      "\n",
      "100%|█████████▉| 99818/100000 [1:46:38<00:08, 21.96it/s]\u001b[A\u001b[A\n",
      "\n",
      "100%|█████████▉| 99821/100000 [1:46:39<00:08, 21.96it/s]\u001b[A\u001b[A\n",
      "\n",
      "100%|█████████▉| 99824/100000 [1:46:39<00:08, 21.94it/s]\u001b[A\u001b[A\n",
      "\n",
      "100%|█████████▉| 99827/100000 [1:46:39<00:07, 22.04it/s]\u001b[A\u001b[A\n",
      "\n",
      "100%|█████████▉| 99830/100000 [1:46:39<00:07, 22.02it/s]\u001b[A\u001b[A\n",
      "\n",
      "100%|█████████▉| 99833/100000 [1:46:39<00:07, 22.04it/s]\u001b[A\u001b[A\n",
      "\n",
      "100%|█████████▉| 99836/100000 [1:46:39<00:07, 22.23it/s]\u001b[A\u001b[A\n",
      "\n",
      "100%|█████████▉| 99839/100000 [1:46:39<00:07, 22.25it/s]\u001b[A\u001b[A\n",
      "\n",
      "100%|█████████▉| 99842/100000 [1:46:40<00:07, 22.30it/s]\u001b[A\u001b[A\n",
      "\n",
      "100%|█████████▉| 99845/100000 [1:46:40<00:06, 22.29it/s]\u001b[A\u001b[A\n",
      "\n",
      "100%|█████████▉| 99848/100000 [1:46:40<00:06, 22.32it/s]\u001b[A\u001b[A\n",
      "\n",
      "100%|█████████▉| 99851/100000 [1:46:40<00:06, 22.24it/s]\u001b[A\u001b[A\n",
      "\n",
      "100%|█████████▉| 99854/100000 [1:46:40<00:06, 22.24it/s]\u001b[A\u001b[A\n",
      "\n",
      "100%|█████████▉| 99857/100000 [1:46:40<00:06, 22.24it/s]\u001b[A\u001b[A\n",
      "\n",
      "100%|█████████▉| 99860/100000 [1:46:40<00:06, 22.18it/s]\u001b[A\u001b[A\n",
      "\n",
      "100%|█████████▉| 99863/100000 [1:46:40<00:06, 22.03it/s]\u001b[A\u001b[A\n",
      "\n"
     ]
    },
    {
     "name": "stderr",
     "output_type": "stream",
     "text": [
      "100%|█████████▉| 99866/100000 [1:46:41<00:06, 22.05it/s]\u001b[A\u001b[A\n",
      "\n",
      "100%|█████████▉| 99869/100000 [1:46:41<00:05, 22.10it/s]\u001b[A\u001b[A\n",
      "\n",
      "100%|█████████▉| 99872/100000 [1:46:41<00:05, 22.05it/s]\u001b[A\u001b[A\n",
      "\n",
      "100%|█████████▉| 99875/100000 [1:46:41<00:05, 22.02it/s]\u001b[A\u001b[A\n",
      "\n",
      "100%|█████████▉| 99878/100000 [1:46:41<00:05, 22.05it/s]\u001b[A\u001b[A\n",
      "\n",
      "100%|█████████▉| 99881/100000 [1:46:41<00:05, 21.87it/s]\u001b[A\u001b[A\n",
      "\n",
      "100%|█████████▉| 99884/100000 [1:46:41<00:05, 21.59it/s]\u001b[A\u001b[A\n",
      "\n",
      "100%|█████████▉| 99887/100000 [1:46:42<00:05, 21.49it/s]\u001b[A\u001b[A\n",
      "\n",
      "100%|█████████▉| 99890/100000 [1:46:42<00:05, 21.15it/s]\u001b[A\u001b[A\n",
      "\n",
      "100%|█████████▉| 99893/100000 [1:46:42<00:04, 21.41it/s]\u001b[A\u001b[A\n",
      "\n",
      "100%|█████████▉| 99896/100000 [1:46:42<00:04, 21.57it/s]\u001b[A\u001b[A\n",
      "\n",
      "100%|█████████▉| 99899/100000 [1:46:42<00:04, 21.77it/s]\u001b[A\u001b[A\n",
      "\n",
      "100%|█████████▉| 99902/100000 [1:46:42<00:04, 21.91it/s]\u001b[A\u001b[A\n",
      "\n",
      "100%|█████████▉| 99905/100000 [1:46:42<00:04, 21.96it/s]\u001b[A\u001b[A\n",
      "\n",
      "100%|█████████▉| 99908/100000 [1:46:43<00:04, 21.90it/s]\u001b[A\u001b[A\n",
      "\n",
      "100%|█████████▉| 99911/100000 [1:46:43<00:04, 21.91it/s]\u001b[A\u001b[A\n",
      "\n",
      "100%|█████████▉| 99914/100000 [1:46:43<00:03, 22.10it/s]\u001b[A\u001b[A\n",
      "\n",
      "100%|█████████▉| 99917/100000 [1:46:43<00:03, 22.25it/s]\u001b[A\u001b[A\n",
      "\n",
      "100%|█████████▉| 99920/100000 [1:46:43<00:03, 22.34it/s]\u001b[A\u001b[A\n",
      "\n",
      "100%|█████████▉| 99923/100000 [1:46:43<00:03, 22.31it/s]\u001b[A\u001b[A\n",
      "\n",
      "100%|█████████▉| 99926/100000 [1:46:43<00:03, 22.25it/s]\u001b[A\u001b[A\n",
      "\n",
      "100%|█████████▉| 99929/100000 [1:46:43<00:03, 22.31it/s]\u001b[A\u001b[A\n",
      "\n",
      "100%|█████████▉| 99932/100000 [1:46:44<00:03, 21.90it/s]\u001b[A\u001b[A\n",
      "\n",
      "100%|█████████▉| 99935/100000 [1:46:44<00:02, 22.09it/s]\u001b[A\u001b[A\n",
      "\n",
      "100%|█████████▉| 99938/100000 [1:46:44<00:02, 22.12it/s]\u001b[A\u001b[A\n",
      "\n",
      "100%|█████████▉| 99941/100000 [1:46:44<00:02, 22.11it/s]\u001b[A\u001b[A\n",
      "\n",
      "100%|█████████▉| 99944/100000 [1:46:44<00:02, 22.26it/s]\u001b[A\u001b[A\n",
      "\n",
      "100%|█████████▉| 99947/100000 [1:46:44<00:02, 22.24it/s]\u001b[A\u001b[A\n",
      "\n",
      "100%|█████████▉| 99950/100000 [1:46:44<00:02, 22.28it/s]\u001b[A\u001b[A\n",
      "\n",
      "100%|█████████▉| 99953/100000 [1:46:45<00:02, 22.34it/s]\u001b[A\u001b[A\n",
      "\n",
      "100%|█████████▉| 99956/100000 [1:46:45<00:01, 22.41it/s]\u001b[A\u001b[A\n",
      "\n",
      "100%|█████████▉| 99959/100000 [1:46:45<00:01, 22.26it/s]\u001b[A\u001b[A\n",
      "\n",
      "100%|█████████▉| 99962/100000 [1:46:45<00:01, 22.32it/s]\u001b[A\u001b[A\n",
      "\n",
      "100%|█████████▉| 99965/100000 [1:46:45<00:01, 22.13it/s]\u001b[A\u001b[A\n",
      "\n",
      "100%|█████████▉| 99968/100000 [1:46:45<00:01, 22.14it/s]\u001b[A\u001b[A\n",
      "\n",
      "100%|█████████▉| 99971/100000 [1:46:45<00:01, 22.04it/s]\u001b[A\u001b[A\n",
      "\n",
      "100%|█████████▉| 99974/100000 [1:46:45<00:01, 22.07it/s]\u001b[A\u001b[A\n",
      "\n",
      "100%|█████████▉| 99977/100000 [1:46:46<00:01, 22.08it/s]\u001b[A\u001b[A\n",
      "\n",
      "100%|█████████▉| 99980/100000 [1:46:46<00:00, 21.45it/s]\u001b[A\u001b[A\n",
      "\n",
      "100%|█████████▉| 99983/100000 [1:46:46<00:00, 21.66it/s]\u001b[A\u001b[A\n",
      "\n",
      "100%|█████████▉| 99986/100000 [1:46:46<00:00, 21.85it/s]\u001b[A\u001b[A\n",
      "\n",
      "100%|█████████▉| 99989/100000 [1:46:46<00:00, 22.02it/s]\u001b[A\u001b[A\n",
      "\n",
      "100%|█████████▉| 99992/100000 [1:46:46<00:00, 21.99it/s]\u001b[A\u001b[A\n",
      "\n",
      "100%|█████████▉| 99995/100000 [1:46:46<00:00, 22.13it/s]\u001b[A\u001b[A\n",
      "\n",
      "100%|██████████| 100000/100000 [1:46:47<00:00, 15.61it/s][A\u001b[A\n"
     ]
    }
   ],
   "source": [
    "for i in trange(100000):\n",
    "    batch_actions = agent.sample_actions(agent.step(batch_states))\n",
    "    batch_next_states, batch_rewards, batch_done, _ = env_batch.step(batch_actions)\n",
    "\n",
    "    feed_dict = {\n",
    "        states_ph: batch_states,\n",
    "        actions_ph: batch_actions,\n",
    "        next_states_ph: batch_next_states,\n",
    "        rewards_ph: batch_rewards,\n",
    "        is_done_ph: batch_done,\n",
    "    }\n",
    "    batch_states = batch_next_states\n",
    "\n",
    "    _, ent_t = sess.run([train_step, entropy], feed_dict)\n",
    "    entropy_history.append(np.mean(ent_t))\n",
    "\n",
    "    if i % 500 == 0:\n",
    "        if i % 2500 == 0:\n",
    "            rewards_history.append(np.mean(evaluate(agent, env, n_games=3)))\n",
    "            if rewards_history[-1] >= 50:\n",
    "                color = \"\" # Not sure the meaning of \"% color\" in next print, but it raises an error\n",
    "                print(\"Your agent has earned the yellow belt\")# % color)\n",
    "\n",
    "        clear_output(True)\n",
    "        plt.figure(figsize=[8, 4])\n",
    "        plt.subplot(1, 2, 1)\n",
    "        plt.plot(rewards_history, label='rewards')\n",
    "        plt.plot(ewma(np.array(rewards_history), span=10), marker='.', label='rewards ewma@10')\n",
    "        plt.title(\"Session rewards\")\n",
    "        plt.grid()\n",
    "        plt.legend()\n",
    "\n",
    "        plt.subplot(1, 2, 2)\n",
    "        plt.plot(entropy_history, label='entropy')\n",
    "        plt.plot(ewma(np.array(entropy_history), span=1000), label='entropy ewma@1000')\n",
    "        plt.title(\"Policy entropy\")\n",
    "        plt.grid()\n",
    "        plt.legend()\n",
    "        plt.show()"
   ]
  },
  {
   "cell_type": "markdown",
   "metadata": {},
   "source": [
    "Relax and grab some refreshments while your agent is locked in an infinite loop of violence and death.\n",
    "\n",
    "__How to interpret plots:__\n",
    "\n",
    "The session reward is the easy thing: it should in general go up over time, but it's okay if it fluctuates ~~like crazy~~. It's also OK if it reward doesn't increase substantially before some 10k initial steps. However, if reward reaches zero and doesn't seem to get up over 2-3 evaluations, there's something wrong happening.\n",
    "\n",
    "\n",
    "Since we use a policy-based method, we also keep track of __policy entropy__ - the same one you used as a regularizer. The only important thing about it is that your entropy shouldn't drop too low (`< 0.1`) before your agent gets the yellow belt. Or at least it can drop there, but _it shouldn't stay there for long_.\n",
    "\n",
    "If it does, the culprit is likely:\n",
    "* Some bug in entropy computation. Remember that it is $ - \\sum p(a_i) \\cdot log p(a_i) $\n",
    "* Your agent architecture converges too fast. Increase entropy coefficient in actor loss. \n",
    "* Gradient explosion - just [clip gradients](https://stackoverflow.com/a/43486487) and maybe use a smaller network\n",
    "* Us. Or TF developers. Or aliens. Or lizardfolk. Contact us on forums before it's too late!\n",
    "\n",
    "If you're debugging, just run `logits, values = agent.step(batch_states)` and manually look into logits and values. This will reveal the problem 9 times out of 10: you'll likely see some NaNs or insanely large numbers or zeros. Try to catch the moment when this happens for the first time and investigate from there."
   ]
  },
  {
   "cell_type": "markdown",
   "metadata": {},
   "source": [
    "### \"Final\" evaluation"
   ]
  },
  {
   "cell_type": "code",
   "execution_count": 26,
   "metadata": {},
   "outputs": [
    {
     "name": "stdout",
     "output_type": "stream",
     "text": [
      "Final mean reward: 355.0\n"
     ]
    }
   ],
   "source": [
    "env_monitor = gym.wrappers.Monitor(env, directory=\"kungfu_videos\", force=True)\n",
    "final_rewards = evaluate(agent, env_monitor, n_games=20)\n",
    "env_monitor.close()\n",
    "print(\"Final mean reward:\", np.mean(final_rewards))\n",
    "\n",
    "video_names = list(filter(lambda s: s.endswith(\".mp4\"), os.listdir(\"./kungfu_videos/\")))"
   ]
  },
  {
   "cell_type": "code",
   "execution_count": 27,
   "metadata": {},
   "outputs": [
    {
     "data": {
      "text/html": [
       "\n",
       "<video width=\"640\" height=\"480\" controls>\n",
       "  <source src=\"./kungfu_videos/openaigym.video.1.1666.video000008.mp4\" type=\"video/mp4\">\n",
       "</video>\n"
      ],
      "text/plain": [
       "<IPython.core.display.HTML object>"
      ]
     },
     "execution_count": 27,
     "metadata": {},
     "output_type": "execute_result"
    }
   ],
   "source": [
    "HTML(\"\"\"\n",
    "<video width=\"640\" height=\"480\" controls>\n",
    "  <source src=\"{}\" type=\"video/mp4\">\n",
    "</video>\n",
    "\"\"\".format(\"./kungfu_videos/\"+video_names[-1])) "
   ]
  },
  {
   "cell_type": "code",
   "execution_count": 28,
   "metadata": {},
   "outputs": [
    {
     "data": {
      "text/html": [
       "\n",
       "<video width=\"640\" height=\"480\" controls>\n",
       "  <source src=\"./kungfu_videos/openaigym.video.1.1666.video000000.mp4\" type=\"video/mp4\">\n",
       "</video>\n"
      ],
      "text/plain": [
       "<IPython.core.display.HTML object>"
      ]
     },
     "execution_count": 28,
     "metadata": {},
     "output_type": "execute_result"
    }
   ],
   "source": [
    "HTML(\"\"\"\n",
    "<video width=\"640\" height=\"480\" controls>\n",
    "  <source src=\"{}\" type=\"video/mp4\">\n",
    "</video>\n",
    "\"\"\".format(\"./kungfu_videos/\" + video_names[-2]))  # try other indices"
   ]
  },
  {
   "cell_type": "code",
   "execution_count": null,
   "metadata": {
    "collapsed": true
   },
   "outputs": [],
   "source": [
    "# if you don't see videos, just navigate to ./kungfu_videos and download .mp4 files from there."
   ]
  },
  {
   "cell_type": "code",
   "execution_count": 29,
   "metadata": {},
   "outputs": [
    {
     "name": "stdout",
     "output_type": "stream",
     "text": [
      "Submitted to Coursera platform. See results on assignment page!\n"
     ]
    }
   ],
   "source": [
    "from submit import submit_kungfu\n",
    "env = make_env()\n",
    "submit_kungfu(agent, env, evaluate, \"danielruizriquelme@gmail.com\", \"PHLJCtXiHR4oh9kb\")"
   ]
  },
  {
   "cell_type": "markdown",
   "metadata": {},
   "source": [
    "```\n",
    "\n",
    "```\n",
    "```\n",
    "\n",
    "```\n",
    "```\n",
    "\n",
    "```\n",
    "```\n",
    "\n",
    "```\n",
    "```\n",
    "\n",
    "```\n",
    "```\n",
    "\n",
    "```\n",
    "```\n",
    "\n",
    "```\n",
    "```\n",
    "\n",
    "```\n"
   ]
  },
  {
   "cell_type": "markdown",
   "metadata": {},
   "source": [
    "### Now what?\n",
    "Well, 5k reward is [just the beginning](https://www.buzzfeed.com/mattjayyoung/what-the-color-of-your-karate-belt-actually-means-lg3g). Can you get past 200? With recurrent neural network memory, chances are you can even beat 400!\n",
    "\n",
    "* Try n-step advantage and \"lambda\"-advantage (aka GAE) - see [this article](https://arxiv.org/abs/1506.02438)\n",
    " * This change should improve early convergence a lot\n",
    "* Try recurrent neural network \n",
    " * RNN memory will slow things down initially, but in will reach better final reward at this game\n",
    "* Implement asynchronuous version\n",
    " * Remember [A3C](https://arxiv.org/abs/1602.01783)? The first \"A\" stands for asynchronuous. It means there are several parallel actor-learners out there.\n",
    " * You can write custom code for synchronization, but we recommend using [redis](https://redis.io/)\n",
    "   * You can store full parameter set in redis, along with any other metadate\n",
    "   * Here's a _quick_ way to (de)serialize parameters for redis\n",
    "   ```\n",
    "   import joblib\n",
    "   from six import BytesIO\n",
    "```\n",
    "```\n",
    "   def dumps(data):\n",
    "        \"converts whatever to string\"\n",
    "        s = BytesIO()\n",
    "        joblib.dump(data,s)\n",
    "        return s.getvalue()\n",
    "``` \n",
    "```\n",
    "    def loads(string):\n",
    "        \"converts string to whatever was dumps'ed in it\"\n",
    "        return joblib.load(BytesIO(string))\n",
    "```"
   ]
  }
 ],
 "metadata": {
  "kernelspec": {
   "display_name": "Python 3",
   "language": "python",
   "name": "python3"
  },
  "language_info": {
   "codemirror_mode": {
    "name": "ipython",
    "version": 3
   },
   "file_extension": ".py",
   "mimetype": "text/x-python",
   "name": "python",
   "nbconvert_exporter": "python",
   "pygments_lexer": "ipython3",
   "version": "3.5.2"
  }
 },
 "nbformat": 4,
 "nbformat_minor": 1
}
